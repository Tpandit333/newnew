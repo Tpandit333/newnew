{
 "cells": [
  {
   "cell_type": "code",
   "execution_count": 1,
   "metadata": {
    "id": "7Np6RCC8nbAJ"
   },
   "outputs": [],
   "source": [
    "import numpy as np\n",
    "import pandas as pd\n",
    "import tensorflow as tf\n",
    "import matplotlib.pyplot as plt\n",
    "from sklearn.metrics import accuracy_score\n",
    "from tensorflow.keras.optimizers import Adam\n",
    "from sklearn.preprocessing import MinMaxScaler\n",
    "from tensorflow.keras import Model, Sequential\n",
    "from tensorflow.keras.layers import Dense, Dropout\n",
    "from sklearn.model_selection import train_test_split\n",
    "from tensorflow.keras.losses import MeanSquaredLogarithmicError"
   ]
  },
  {
   "cell_type": "code",
   "execution_count": 2,
   "metadata": {
    "colab": {
     "base_uri": "https://localhost:8080/",
     "height": 270
    },
    "id": "ATDPsAdxnsr6",
    "outputId": "c5796a79-62ad-4fa8-d86b-6854cf6265d1"
   },
   "outputs": [
    {
     "name": "stdout",
     "output_type": "stream",
     "text": [
      "(4998, 141)\n"
     ]
    },
    {
     "data": {
      "text/html": [
       "<div>\n",
       "<style scoped>\n",
       "    .dataframe tbody tr th:only-of-type {\n",
       "        vertical-align: middle;\n",
       "    }\n",
       "\n",
       "    .dataframe tbody tr th {\n",
       "        vertical-align: top;\n",
       "    }\n",
       "\n",
       "    .dataframe thead th {\n",
       "        text-align: right;\n",
       "    }\n",
       "</style>\n",
       "<table border=\"1\" class=\"dataframe\">\n",
       "  <thead>\n",
       "    <tr style=\"text-align: right;\">\n",
       "      <th></th>\n",
       "      <th>0</th>\n",
       "      <th>1</th>\n",
       "      <th>2</th>\n",
       "      <th>3</th>\n",
       "      <th>4</th>\n",
       "      <th>5</th>\n",
       "      <th>6</th>\n",
       "      <th>7</th>\n",
       "      <th>8</th>\n",
       "      <th>9</th>\n",
       "      <th>...</th>\n",
       "      <th>131</th>\n",
       "      <th>132</th>\n",
       "      <th>133</th>\n",
       "      <th>134</th>\n",
       "      <th>135</th>\n",
       "      <th>136</th>\n",
       "      <th>137</th>\n",
       "      <th>138</th>\n",
       "      <th>139</th>\n",
       "      <th>140</th>\n",
       "    </tr>\n",
       "  </thead>\n",
       "  <tbody>\n",
       "    <tr>\n",
       "      <th>0</th>\n",
       "      <td>-0.112522</td>\n",
       "      <td>-2.827204</td>\n",
       "      <td>-3.773897</td>\n",
       "      <td>-4.349751</td>\n",
       "      <td>-4.376041</td>\n",
       "      <td>-3.474986</td>\n",
       "      <td>-2.181408</td>\n",
       "      <td>-1.818286</td>\n",
       "      <td>-1.250522</td>\n",
       "      <td>-0.477492</td>\n",
       "      <td>...</td>\n",
       "      <td>0.792168</td>\n",
       "      <td>0.933541</td>\n",
       "      <td>0.796958</td>\n",
       "      <td>0.578621</td>\n",
       "      <td>0.257740</td>\n",
       "      <td>0.228077</td>\n",
       "      <td>0.123431</td>\n",
       "      <td>0.925286</td>\n",
       "      <td>0.193137</td>\n",
       "      <td>1.0</td>\n",
       "    </tr>\n",
       "    <tr>\n",
       "      <th>1</th>\n",
       "      <td>-1.100878</td>\n",
       "      <td>-3.996840</td>\n",
       "      <td>-4.285843</td>\n",
       "      <td>-4.506579</td>\n",
       "      <td>-4.022377</td>\n",
       "      <td>-3.234368</td>\n",
       "      <td>-1.566126</td>\n",
       "      <td>-0.992258</td>\n",
       "      <td>-0.754680</td>\n",
       "      <td>0.042321</td>\n",
       "      <td>...</td>\n",
       "      <td>0.538356</td>\n",
       "      <td>0.656881</td>\n",
       "      <td>0.787490</td>\n",
       "      <td>0.724046</td>\n",
       "      <td>0.555784</td>\n",
       "      <td>0.476333</td>\n",
       "      <td>0.773820</td>\n",
       "      <td>1.119621</td>\n",
       "      <td>-1.436250</td>\n",
       "      <td>1.0</td>\n",
       "    </tr>\n",
       "    <tr>\n",
       "      <th>2</th>\n",
       "      <td>-0.567088</td>\n",
       "      <td>-2.593450</td>\n",
       "      <td>-3.874230</td>\n",
       "      <td>-4.584095</td>\n",
       "      <td>-4.187449</td>\n",
       "      <td>-3.151462</td>\n",
       "      <td>-1.742940</td>\n",
       "      <td>-1.490659</td>\n",
       "      <td>-1.183580</td>\n",
       "      <td>-0.394229</td>\n",
       "      <td>...</td>\n",
       "      <td>0.886073</td>\n",
       "      <td>0.531452</td>\n",
       "      <td>0.311377</td>\n",
       "      <td>-0.021919</td>\n",
       "      <td>-0.713683</td>\n",
       "      <td>-0.532197</td>\n",
       "      <td>0.321097</td>\n",
       "      <td>0.904227</td>\n",
       "      <td>-0.421797</td>\n",
       "      <td>1.0</td>\n",
       "    </tr>\n",
       "    <tr>\n",
       "      <th>3</th>\n",
       "      <td>0.490473</td>\n",
       "      <td>-1.914407</td>\n",
       "      <td>-3.616364</td>\n",
       "      <td>-4.318823</td>\n",
       "      <td>-4.268016</td>\n",
       "      <td>-3.881110</td>\n",
       "      <td>-2.993280</td>\n",
       "      <td>-1.671131</td>\n",
       "      <td>-1.333884</td>\n",
       "      <td>-0.965629</td>\n",
       "      <td>...</td>\n",
       "      <td>0.350816</td>\n",
       "      <td>0.499111</td>\n",
       "      <td>0.600345</td>\n",
       "      <td>0.842069</td>\n",
       "      <td>0.952074</td>\n",
       "      <td>0.990133</td>\n",
       "      <td>1.086798</td>\n",
       "      <td>1.403011</td>\n",
       "      <td>-0.383564</td>\n",
       "      <td>1.0</td>\n",
       "    </tr>\n",
       "    <tr>\n",
       "      <th>4</th>\n",
       "      <td>0.800232</td>\n",
       "      <td>-0.874252</td>\n",
       "      <td>-2.384761</td>\n",
       "      <td>-3.973292</td>\n",
       "      <td>-4.338224</td>\n",
       "      <td>-3.802422</td>\n",
       "      <td>-2.534510</td>\n",
       "      <td>-1.783423</td>\n",
       "      <td>-1.594450</td>\n",
       "      <td>-0.753199</td>\n",
       "      <td>...</td>\n",
       "      <td>1.148884</td>\n",
       "      <td>0.958434</td>\n",
       "      <td>1.059025</td>\n",
       "      <td>1.371682</td>\n",
       "      <td>1.277392</td>\n",
       "      <td>0.960304</td>\n",
       "      <td>0.971020</td>\n",
       "      <td>1.614392</td>\n",
       "      <td>1.421456</td>\n",
       "      <td>1.0</td>\n",
       "    </tr>\n",
       "  </tbody>\n",
       "</table>\n",
       "<p>5 rows × 141 columns</p>\n",
       "</div>"
      ],
      "text/plain": [
       "        0         1         2         3         4         5         6    \\\n",
       "0 -0.112522 -2.827204 -3.773897 -4.349751 -4.376041 -3.474986 -2.181408   \n",
       "1 -1.100878 -3.996840 -4.285843 -4.506579 -4.022377 -3.234368 -1.566126   \n",
       "2 -0.567088 -2.593450 -3.874230 -4.584095 -4.187449 -3.151462 -1.742940   \n",
       "3  0.490473 -1.914407 -3.616364 -4.318823 -4.268016 -3.881110 -2.993280   \n",
       "4  0.800232 -0.874252 -2.384761 -3.973292 -4.338224 -3.802422 -2.534510   \n",
       "\n",
       "        7         8         9    ...       131       132       133       134  \\\n",
       "0 -1.818286 -1.250522 -0.477492  ...  0.792168  0.933541  0.796958  0.578621   \n",
       "1 -0.992258 -0.754680  0.042321  ...  0.538356  0.656881  0.787490  0.724046   \n",
       "2 -1.490659 -1.183580 -0.394229  ...  0.886073  0.531452  0.311377 -0.021919   \n",
       "3 -1.671131 -1.333884 -0.965629  ...  0.350816  0.499111  0.600345  0.842069   \n",
       "4 -1.783423 -1.594450 -0.753199  ...  1.148884  0.958434  1.059025  1.371682   \n",
       "\n",
       "        135       136       137       138       139  140  \n",
       "0  0.257740  0.228077  0.123431  0.925286  0.193137  1.0  \n",
       "1  0.555784  0.476333  0.773820  1.119621 -1.436250  1.0  \n",
       "2 -0.713683 -0.532197  0.321097  0.904227 -0.421797  1.0  \n",
       "3  0.952074  0.990133  1.086798  1.403011 -0.383564  1.0  \n",
       "4  1.277392  0.960304  0.971020  1.614392  1.421456  1.0  \n",
       "\n",
       "[5 rows x 141 columns]"
      ]
     },
     "execution_count": 2,
     "metadata": {},
     "output_type": "execute_result"
    }
   ],
   "source": [
    "# Download the dataset\n",
    "PATH_TO_DATA = 'http://storage.googleapis.com/download.tensorflow.org/data/ecg.csv'\n",
    "data = pd.read_csv(PATH_TO_DATA, header=None)\n",
    "print(data.shape)\n",
    "data.head()"
   ]
  },
  {
   "cell_type": "code",
   "execution_count": 3,
   "metadata": {
    "id": "OTEDLRtA4I9k"
   },
   "outputs": [],
   "source": [
    "# last column is the target\n",
    "# 0 = anomaly, 1 = normal\n",
    "TARGET = 140\n",
    "\n",
    "features = data.drop(TARGET, axis=1)\n",
    "target = data[TARGET]\n",
    "\n",
    "x_train, x_test, y_train, y_test = train_test_split(\n",
    "    features, target, test_size=0.2, stratify=target\n",
    ")"
   ]
  },
  {
   "cell_type": "code",
   "execution_count": 4,
   "metadata": {
    "id": "2mjzHNYjLviR"
   },
   "outputs": [],
   "source": [
    "# use case is novelty detection so use only the normal data\n",
    "# for training\n",
    "train_index = y_train[y_train == 1].index\n",
    "train_data = x_train.loc[train_index]"
   ]
  },
  {
   "cell_type": "code",
   "execution_count": 5,
   "metadata": {
    "id": "cmJhTiuBts4F"
   },
   "outputs": [],
   "source": [
    "min_max_scaler = MinMaxScaler(feature_range=(0, 1))\n",
    "x_train_scaled = min_max_scaler.fit_transform(train_data.copy())\n",
    "x_test_scaled = min_max_scaler.transform(x_test.copy())"
   ]
  },
  {
   "cell_type": "code",
   "execution_count": 6,
   "metadata": {
    "id": "N9VmLu89uPIY"
   },
   "outputs": [],
   "source": [
    "# create a model by subclassing Model class in tensorflow\n",
    "class AutoEncoder(Model):\n",
    "  \"\"\"\n",
    "  Parameters\n",
    "  ----------\n",
    "  output_units: int\n",
    "    Number of output units\n",
    "\n",
    "  code_size: int\n",
    "    Number of units in bottle neck\n",
    "  \"\"\"\n",
    "\n",
    "  def __init__(self, output_units, code_size=8):\n",
    "    super().__init__()\n",
    "    self.encoder = Sequential([\n",
    "      Dense(64, activation='relu'),\n",
    "      Dropout(0.1),\n",
    "      Dense(32, activation='relu'),\n",
    "      Dropout(0.1),\n",
    "      Dense(16, activation='relu'),\n",
    "      Dropout(0.1),\n",
    "      Dense(code_size, activation='relu')\n",
    "    ])\n",
    "    self.decoder = Sequential([\n",
    "      Dense(16, activation='relu'),\n",
    "      Dropout(0.1),\n",
    "      Dense(32, activation='relu'),\n",
    "      Dropout(0.1),\n",
    "      Dense(64, activation='relu'),\n",
    "      Dropout(0.1),\n",
    "      Dense(output_units, activation='sigmoid')\n",
    "    ])\n",
    "\n",
    "  def call(self, inputs):\n",
    "    encoded = self.encoder(inputs)\n",
    "    decoded = self.decoder(encoded)\n",
    "    return decoded"
   ]
  },
  {
   "cell_type": "code",
   "execution_count": 7,
   "metadata": {
    "colab": {
     "base_uri": "https://localhost:8080/"
    },
    "id": "-oylLrsQuPD5",
    "outputId": "9e8b92a5-2507-4f5e-a9a1-33c398d36a70"
   },
   "outputs": [
    {
     "name": "stdout",
     "output_type": "stream",
     "text": [
      "Epoch 1/20\n",
      "5/5 [==============================] - 2s 57ms/step - loss: 0.0109 - mse: 0.0245 - val_loss: 0.0134 - val_mse: 0.0316\n",
      "Epoch 2/20\n",
      "5/5 [==============================] - 0s 20ms/step - loss: 0.0106 - mse: 0.0238 - val_loss: 0.0132 - val_mse: 0.0310\n",
      "Epoch 3/20\n",
      "5/5 [==============================] - 0s 23ms/step - loss: 0.0100 - mse: 0.0224 - val_loss: 0.0129 - val_mse: 0.0302\n",
      "Epoch 4/20\n",
      "5/5 [==============================] - 0s 20ms/step - loss: 0.0092 - mse: 0.0205 - val_loss: 0.0127 - val_mse: 0.0298\n",
      "Epoch 5/20\n",
      "5/5 [==============================] - 0s 19ms/step - loss: 0.0083 - mse: 0.0185 - val_loss: 0.0122 - val_mse: 0.0286\n",
      "Epoch 6/20\n",
      "5/5 [==============================] - 0s 20ms/step - loss: 0.0074 - mse: 0.0164 - val_loss: 0.0119 - val_mse: 0.0279\n",
      "Epoch 7/20\n",
      "5/5 [==============================] - 0s 19ms/step - loss: 0.0065 - mse: 0.0145 - val_loss: 0.0115 - val_mse: 0.0270\n",
      "Epoch 8/20\n",
      "5/5 [==============================] - 0s 20ms/step - loss: 0.0059 - mse: 0.0132 - val_loss: 0.0111 - val_mse: 0.0262\n",
      "Epoch 9/20\n",
      "5/5 [==============================] - 0s 22ms/step - loss: 0.0055 - mse: 0.0122 - val_loss: 0.0107 - val_mse: 0.0253\n",
      "Epoch 10/20\n",
      "5/5 [==============================] - 0s 18ms/step - loss: 0.0052 - mse: 0.0115 - val_loss: 0.0103 - val_mse: 0.0244\n",
      "Epoch 11/20\n",
      "5/5 [==============================] - 0s 23ms/step - loss: 0.0050 - mse: 0.0111 - val_loss: 0.0101 - val_mse: 0.0240\n",
      "Epoch 12/20\n",
      "5/5 [==============================] - 0s 21ms/step - loss: 0.0048 - mse: 0.0108 - val_loss: 0.0100 - val_mse: 0.0237\n",
      "Epoch 13/20\n",
      "5/5 [==============================] - 0s 20ms/step - loss: 0.0048 - mse: 0.0107 - val_loss: 0.0099 - val_mse: 0.0236\n",
      "Epoch 14/20\n",
      "5/5 [==============================] - 0s 24ms/step - loss: 0.0047 - mse: 0.0105 - val_loss: 0.0099 - val_mse: 0.0235\n",
      "Epoch 15/20\n",
      "5/5 [==============================] - 0s 24ms/step - loss: 0.0047 - mse: 0.0104 - val_loss: 0.0099 - val_mse: 0.0236\n",
      "Epoch 16/20\n",
      "5/5 [==============================] - 0s 23ms/step - loss: 0.0046 - mse: 0.0104 - val_loss: 0.0099 - val_mse: 0.0235\n",
      "Epoch 17/20\n",
      "5/5 [==============================] - 0s 20ms/step - loss: 0.0046 - mse: 0.0102 - val_loss: 0.0098 - val_mse: 0.0234\n",
      "Epoch 18/20\n",
      "5/5 [==============================] - 0s 25ms/step - loss: 0.0045 - mse: 0.0102 - val_loss: 0.0098 - val_mse: 0.0234\n",
      "Epoch 19/20\n",
      "5/5 [==============================] - 0s 23ms/step - loss: 0.0045 - mse: 0.0101 - val_loss: 0.0098 - val_mse: 0.0233\n",
      "Epoch 20/20\n",
      "5/5 [==============================] - 0s 20ms/step - loss: 0.0045 - mse: 0.0100 - val_loss: 0.0098 - val_mse: 0.0232\n"
     ]
    }
   ],
   "source": [
    "model = AutoEncoder(output_units=x_train_scaled.shape[1])\n",
    "# configurations of model\n",
    "model.compile(loss='msle', metrics=['mse'], optimizer='adam')\n",
    "\n",
    "history = model.fit(\n",
    "    x_train_scaled,\n",
    "    x_train_scaled,\n",
    "    epochs=20,\n",
    "    batch_size=512,\n",
    "    validation_data=(x_test_scaled, x_test_scaled)\n",
    ")"
   ]
  },
  {
   "cell_type": "code",
   "execution_count": 8,
   "metadata": {
    "colab": {
     "base_uri": "https://localhost:8080/",
     "height": 281
    },
    "id": "ohEpArnj6NMG",
    "outputId": "9e513350-cbc3-4602-ddc6-7e8104302d2a"
   },
   "outputs": [
    {
     "data": {
      "image/png": "[encoded data removed]",
      "text/plain": [
       "<Figure size 640x480 with 1 Axes>"
      ]
     },
     "metadata": {},
     "output_type": "display_data"
    }
   ],
   "source": [
    "plt.plot(history.history['loss'])\n",
    "plt.plot(history.history['val_loss'])\n",
    "plt.xlabel('Epochs')\n",
    "plt.ylabel('MSLE Loss')\n",
    "plt.legend(['loss', 'val_loss'])\n",
    "plt.show()"
   ]
  },
  {
   "cell_type": "code",
   "execution_count": 9,
   "metadata": {
    "id": "ACFZcFWEFNpQ"
   },
   "outputs": [],
   "source": [
    "def find_threshold(model, x_train_scaled):\n",
    "  reconstructions = model.predict(x_train_scaled)\n",
    "  # provides losses of individual instances\n",
    "  reconstruction_errors = tf.keras.losses.msle(reconstructions, x_train_scaled)\n",
    "\n",
    "  # threshold for anomaly scores\n",
    "  threshold = np.mean(reconstruction_errors.numpy()) \\\n",
    "      + np.std(reconstruction_errors.numpy())\n",
    "  return threshold\n",
    "\n",
    "def find_threshold_method_two(model, x_train_scaled):\n",
    "  # another method to find threshold\n",
    "  reconstructions = model.predict(x_train_scaled)\n",
    "  # provides losses of individual instances\n",
    "  reconstruction_errors = tf.keras.losses.msle(reconstructions, x_train_scaled)\n",
    "\n",
    "  threshold_2 = np.percentile(reconstruction_errors, 95)\n",
    "  return threshold_2\n",
    "\n",
    "def get_predictions(model, x_test_scaled, threshold):\n",
    "  predictions = model.predict(x_test_scaled)\n",
    "  # provides losses of individual instances\n",
    "  errors = tf.keras.losses.msle(predictions, x_test_scaled)\n",
    "  # 0 = anomaly, 1 = normal\n",
    "  anomaly_mask = pd.Series(errors) > threshold\n",
    "  preds = anomaly_mask.map(lambda x: 0.0 if x == True else 1.0)\n",
    "  return preds"
   ]
  },
  {
   "cell_type": "code",
   "execution_count": 10,
   "metadata": {
    "colab": {
     "base_uri": "https://localhost:8080/"
    },
    "id": "W4Mxr7cnHPk-",
    "outputId": "44e0954e-fa48-47ed-e0bb-9276cb67aa5d"
   },
   "outputs": [
    {
     "name": "stdout",
     "output_type": "stream",
     "text": [
      "73/73 [==============================] - 0s 1ms/step\n",
      "Threshold method one: 0.009804992231093062\n",
      "73/73 [==============================] - 0s 1ms/step\n",
      "Threshold method two: 0.01421434525861405\n"
     ]
    }
   ],
   "source": [
    "threshold = find_threshold(model, x_train_scaled)\n",
    "print(f\"Threshold method one: {threshold}\")\n",
    "\n",
    "threshold_2 = find_threshold_method_two(model, x_train_scaled)\n",
    "print(f\"Threshold method two: {threshold_2}\")"
   ]
  },
  {
   "cell_type": "code",
   "execution_count": 11,
   "metadata": {
    "colab": {
     "base_uri": "https://localhost:8080/"
    },
    "id": "Bl0Op0GNHVDD",
    "outputId": "81efd337-cd8e-47e0-e4ca-d0e19c1ef2e1"
   },
   "outputs": [
    {
     "name": "stdout",
     "output_type": "stream",
     "text": [
      "32/32 [==============================] - 0s 2ms/step\n"
     ]
    },
    {
     "data": {
      "text/plain": [
       "0.943"
      ]
     },
     "execution_count": 11,
     "metadata": {},
     "output_type": "execute_result"
    }
   ],
   "source": [
    "preds = get_predictions(model, x_test_scaled, threshold)\n",
    "accuracy_score(preds, y_test)"
   ]
  },
  {
   "cell_type": "code",
   "execution_count": 12,
   "metadata": {
    "colab": {
     "base_uri": "https://localhost:8080/"
    },
    "id": "1Zt5CaPNCh__",
    "outputId": "66ce8062-88c7-4967-a538-1736f70cf5ca"
   },
   "outputs": [
    {
     "name": "stdout",
     "output_type": "stream",
     "text": [
      "Defaulting to user installation because normal site-packages is not writeable\n",
      "Collecting keras-tuner\n",
      "  Obtaining dependency information for keras-tuner from https://files.pythonhosted.org/packages/ff/da/39a5389652e31b135d01833ff52a9cbb6538326150df4fc9f6f28cbfb700/keras_tuner-1.4.5-py3-none-any.whl.metadata\n",
      "  Downloading keras_tuner-1.4.5-py3-none-any.whl.metadata (5.4 kB)\n",
      "Collecting keras-core (from keras-tuner)\n",
      "  Obtaining dependency information for keras-core from https://files.pythonhosted.org/packages/95/f7/b8dcff937ea64f822f0d3fe8c6010793406b82d14467cd0e9eecea458a40/keras_core-0.1.7-py3-none-any.whl.metadata\n",
      "  Downloading keras_core-0.1.7-py3-none-any.whl.metadata (4.3 kB)\n",
      "Requirement already satisfied: packaging in c:\\users\\harsh\\appdata\\roaming\\python\\python311\\site-packages (from keras-tuner) (23.1)\n",
      "Requirement already satisfied: requests in c:\\users\\harsh\\appdata\\roaming\\python\\python311\\site-packages (from keras-tuner) (2.28.2)\n",
      "Collecting kt-legacy (from keras-tuner)\n",
      "  Downloading kt_legacy-1.0.5-py3-none-any.whl (9.6 kB)\n",
      "Requirement already satisfied: absl-py in c:\\users\\harsh\\appdata\\roaming\\python\\python311\\site-packages (from keras-core->keras-tuner) (2.0.0)\n",
      "Requirement already satisfied: numpy in c:\\programdata\\anaconda3\\lib\\site-packages (from keras-core->keras-tuner) (1.24.3)\n",
      "Collecting rich (from keras-core->keras-tuner)\n",
      "  Obtaining dependency information for rich from https://files.pythonhosted.org/packages/be/2a/4e62ff633612f746f88618852a626bbe24226eba5e7ac90e91dcfd6a414e/rich-13.6.0-py3-none-any.whl.metadata\n",
      "  Downloading rich-13.6.0-py3-none-any.whl.metadata (18 kB)\n",
      "Collecting namex (from keras-core->keras-tuner)\n",
      "  Downloading namex-0.0.7-py3-none-any.whl (5.8 kB)\n",
      "Requirement already satisfied: h5py in c:\\programdata\\anaconda3\\lib\\site-packages (from keras-core->keras-tuner) (3.9.0)\n",
      "Collecting dm-tree (from keras-core->keras-tuner)\n",
      "  Downloading dm_tree-0.1.8-cp311-cp311-win_amd64.whl (101 kB)\n",
      "     ---------------------------------------- 0.0/101.3 kB ? eta -:--:--\n",
      "     ----------------------- --------------- 61.4/101.3 kB 1.1 MB/s eta 0:00:01\n",
      "     -------------------------------------- 101.3/101.3 kB 1.2 MB/s eta 0:00:00\n",
      "Requirement already satisfied: charset-normalizer<4,>=2 in c:\\users\\harsh\\appdata\\roaming\\python\\python311\\site-packages (from requests->keras-tuner) (3.1.0)\n",
      "Requirement already satisfied: idna<4,>=2.5 in c:\\users\\harsh\\appdata\\roaming\\python\\python311\\site-packages (from requests->keras-tuner) (3.4)\n",
      "Requirement already satisfied: urllib3<1.27,>=1.21.1 in c:\\users\\harsh\\appdata\\roaming\\python\\python311\\site-packages (from requests->keras-tuner) (1.26.15)\n",
      "Requirement already satisfied: certifi>=2017.4.17 in c:\\users\\harsh\\appdata\\roaming\\python\\python311\\site-packages (from requests->keras-tuner) (2022.12.7)\n",
      "Requirement already satisfied: markdown-it-py>=2.2.0 in c:\\programdata\\anaconda3\\lib\\site-packages (from rich->keras-core->keras-tuner) (2.2.0)\n",
      "Requirement already satisfied: pygments<3.0.0,>=2.13.0 in c:\\users\\harsh\\appdata\\roaming\\python\\python311\\site-packages (from rich->keras-core->keras-tuner) (2.15.1)\n",
      "Requirement already satisfied: mdurl~=0.1 in c:\\programdata\\anaconda3\\lib\\site-packages (from markdown-it-py>=2.2.0->rich->keras-core->keras-tuner) (0.1.0)\n",
      "Downloading keras_tuner-1.4.5-py3-none-any.whl (129 kB)\n",
      "   ---------------------------------------- 0.0/129.5 kB ? eta -:--:--\n",
      "   ------------------------- -------------- 81.9/129.5 kB 2.3 MB/s eta 0:00:01\n",
      "   ---------------------------------------- 129.5/129.5 kB 1.9 MB/s eta 0:00:00\n",
      "Downloading keras_core-0.1.7-py3-none-any.whl (950 kB)\n",
      "   ---------------------------------------- 0.0/950.8 kB ? eta -:--:--\n",
      "   --- ------------------------------------ 92.2/950.8 kB 2.6 MB/s eta 0:00:01\n",
      "   ---- ----------------------------------- 112.6/950.8 kB 1.6 MB/s eta 0:00:01\n",
      "   -------- ------------------------------- 204.8/950.8 kB 1.6 MB/s eta 0:00:01\n",
      "   -------- ------------------------------- 204.8/950.8 kB 1.6 MB/s eta 0:00:01\n",
      "   ------------ --------------------------- 307.2/950.8 kB 1.3 MB/s eta 0:00:01\n",
      "   ----------------- ---------------------- 409.6/950.8 kB 1.5 MB/s eta 0:00:01\n",
      "   -------------------- ------------------- 491.5/950.8 kB 1.5 MB/s eta 0:00:01\n",
      "   ------------------------ --------------- 573.4/950.8 kB 1.6 MB/s eta 0:00:01\n",
      "   -------------------------- ------------- 634.9/950.8 kB 1.6 MB/s eta 0:00:01\n",
      "   ------------------------------ --------- 716.8/950.8 kB 1.6 MB/s eta 0:00:01\n",
      "   ------------------------------ --------- 716.8/950.8 kB 1.6 MB/s eta 0:00:01\n",
      "   ---------------------------------- ----- 819.2/950.8 kB 1.5 MB/s eta 0:00:01\n",
      "   ------------------------------------- -- 880.6/950.8 kB 1.5 MB/s eta 0:00:01\n",
      "   ---------------------------------------- 950.8/950.8 kB 1.5 MB/s eta 0:00:00\n",
      "Downloading rich-13.6.0-py3-none-any.whl (239 kB)\n",
      "   ---------------------------------------- 0.0/239.8 kB ? eta -:--:--\n",
      "   -------------------- ------------------- 122.9/239.8 kB 2.4 MB/s eta 0:00:01\n",
      "   ---------------------------------------  235.5/239.8 kB 2.4 MB/s eta 0:00:01\n",
      "   ---------------------------------------- 239.8/239.8 kB 2.5 MB/s eta 0:00:00\n",
      "Installing collected packages: namex, kt-legacy, dm-tree, rich, keras-core, keras-tuner\n",
      "Successfully installed dm-tree-0.1.8 keras-core-0.1.7 keras-tuner-1.4.5 kt-legacy-1.0.5 namex-0.0.7 rich-13.6.0\n"
     ]
    }
   ],
   "source": [
    "!pip install -U keras-tuner"
   ]
  },
  {
   "cell_type": "code",
   "execution_count": 14,
   "metadata": {
    "id": "-AwQid85DbyC"
   },
   "outputs": [],
   "source": [
    "import kerastuner as kt\n",
    "import keras_tuner\n",
    "\n",
    "class AutoEncoderTuner(Model):\n",
    "\n",
    "  def __init__(self, hp, output_units, code_size=8):\n",
    "    super().__init__()\n",
    "    dense_1_units = hp.Int('dense_1_units', min_value=16, max_value=72, step=4)\n",
    "    dense_2_units = hp.Int('dense_2_units', min_value=16, max_value=72, step=4)\n",
    "    dense_3_units = hp.Int('dense_3_units', min_value=16, max_value=72, step=4)\n",
    "    dense_4_units = hp.Int('dense_4_units', min_value=16, max_value=72, step=4)\n",
    "    dense_5_units = hp.Int('dense_5_units', min_value=16, max_value=72, step=4)\n",
    "    dense_6_units = hp.Int('dense_6_units', min_value=16, max_value=72, step=4)\n",
    "\n",
    "    self.encoder = Sequential([\n",
    "      Dense(dense_1_units, activation='relu'),\n",
    "      Dropout(0.1),\n",
    "      Dense(dense_2_units, activation='relu'),\n",
    "      Dropout(0.1),\n",
    "      Dense(dense_3_units, activation='relu'),\n",
    "      Dropout(0.1),\n",
    "      Dense(code_size, activation='relu')\n",
    "    ])\n",
    "    self.decoder = Sequential([\n",
    "      Dense(dense_4_units, activation='relu'),\n",
    "      Dropout(0.1),\n",
    "      Dense(dense_5_units, activation='relu'),\n",
    "      Dropout(0.1),\n",
    "      Dense(dense_6_units, activation='relu'),\n",
    "      Dropout(0.1),\n",
    "      Dense(output_units, activation='sigmoid')\n",
    "    ])\n",
    "\n",
    "  def call(self, inputs):\n",
    "    encoded = self.encoder(inputs)\n",
    "    decoded = self.decoder(encoded)\n",
    "    return decoded\n",
    "\n",
    "\n",
    "def build_model(hp):\n",
    "  model = AutoEncoderTuner(hp, 140)\n",
    "  hp_learning_rate = hp.Choice('learning_rate', values=[1e-2, 1e-3, 1e-4])\n",
    "  model.compile(\n",
    "      loss='msle',\n",
    "      optimizer=Adam(learning_rate=hp_learning_rate),\n",
    "  )\n",
    "  return model"
   ]
  },
  {
   "cell_type": "code",
   "execution_count": 15,
   "metadata": {
    "colab": {
     "base_uri": "https://localhost:8080/"
    },
    "id": "_6X0KEcX6NAS",
    "outputId": "8bf5e44c-ed99-40b3-a051-68aad31fce9e"
   },
   "outputs": [
    {
     "name": "stdout",
     "output_type": "stream",
     "text": [
      "Trial 30 Complete [00h 00m 06s]\n",
      "val_loss: 0.008624768815934658\n",
      "\n",
      "Best val_loss So Far: 0.008242104202508926\n",
      "Total elapsed time: 00h 01m 25s\n"
     ]
    }
   ],
   "source": [
    "tuner = kt.Hyperband(\n",
    "    build_model,\n",
    "    objective='val_loss',\n",
    "    max_epochs=20,\n",
    "    factor=3,\n",
    "    directory='autoencoder',\n",
    "    project_name='tuning_autoencoder6'\n",
    ")\n",
    "\n",
    "tuner.search(\n",
    "    x_train_scaled,\n",
    "    x_train_scaled,\n",
    "    epochs=20,\n",
    "    batch_size=512,\n",
    "    validation_data=(x_test_scaled, x_test_scaled)\n",
    ")"
   ]
  },
  {
   "cell_type": "code",
   "execution_count": 16,
   "metadata": {
    "colab": {
     "base_uri": "https://localhost:8080/"
    },
    "id": "_tiB8zhcF0QV",
    "outputId": "4e5b74d2-fff8-4502-f60b-d15f388330ce"
   },
   "outputs": [
    {
     "name": "stdout",
     "output_type": "stream",
     "text": [
      "dense_1_units: 60\n",
      "dense_2_units: 60\n",
      "dense_3_units: 36\n",
      "dense_4_units: 32\n",
      "dense_5_units: 64\n",
      "dense_6_units: 40\n",
      "learning_rate: 0.01\n"
     ]
    }
   ],
   "source": [
    "hparams = [f'dense_{i}_units' for i in range(1,7)] + ['learning_rate']\n",
    "best_hyperparams = tuner.get_best_hyperparameters()\n",
    "for hps in hparams:\n",
    "  print(f\"{hps}: {best_hyperparams[0][hps]}\")"
   ]
  },
  {
   "cell_type": "code",
   "execution_count": 17,
   "metadata": {
    "colab": {
     "base_uri": "https://localhost:8080/"
    },
    "id": "MUvDIqvVEuNk",
    "outputId": "0c8f1a84-c746-4f3d-fd12-a3dade4e5459"
   },
   "outputs": [
    {
     "name": "stdout",
     "output_type": "stream",
     "text": [
      "Epoch 1/20\n",
      "5/5 [==============================] - 2s 50ms/step - loss: 0.0027 - val_loss: 0.0083\n",
      "Epoch 2/20\n",
      "5/5 [==============================] - 0s 18ms/step - loss: 0.0027 - val_loss: 0.0083\n",
      "Epoch 3/20\n",
      "5/5 [==============================] - 0s 21ms/step - loss: 0.0027 - val_loss: 0.0083\n",
      "Epoch 4/20\n",
      "5/5 [==============================] - 0s 23ms/step - loss: 0.0027 - val_loss: 0.0083\n",
      "Epoch 5/20\n",
      "5/5 [==============================] - 0s 22ms/step - loss: 0.0026 - val_loss: 0.0083\n",
      "Epoch 6/20\n",
      "5/5 [==============================] - 0s 23ms/step - loss: 0.0026 - val_loss: 0.0083\n",
      "Epoch 7/20\n",
      "5/5 [==============================] - 0s 23ms/step - loss: 0.0026 - val_loss: 0.0083\n",
      "Epoch 8/20\n",
      "5/5 [==============================] - 0s 23ms/step - loss: 0.0026 - val_loss: 0.0082\n",
      "Epoch 9/20\n",
      "5/5 [==============================] - 0s 20ms/step - loss: 0.0026 - val_loss: 0.0082\n",
      "Epoch 10/20\n",
      "5/5 [==============================] - 0s 23ms/step - loss: 0.0026 - val_loss: 0.0082\n",
      "Epoch 11/20\n",
      "5/5 [==============================] - 0s 22ms/step - loss: 0.0025 - val_loss: 0.0082\n",
      "Epoch 12/20\n",
      "5/5 [==============================] - 0s 20ms/step - loss: 0.0025 - val_loss: 0.0082\n",
      "Epoch 13/20\n",
      "5/5 [==============================] - 0s 23ms/step - loss: 0.0025 - val_loss: 0.0082\n",
      "Epoch 14/20\n",
      "5/5 [==============================] - 0s 23ms/step - loss: 0.0025 - val_loss: 0.0082\n",
      "Epoch 15/20\n",
      "5/5 [==============================] - 0s 20ms/step - loss: 0.0025 - val_loss: 0.0082\n",
      "Epoch 16/20\n",
      "5/5 [==============================] - 0s 26ms/step - loss: 0.0025 - val_loss: 0.0082\n",
      "Epoch 17/20\n",
      "5/5 [==============================] - 0s 22ms/step - loss: 0.0025 - val_loss: 0.0082\n",
      "Epoch 18/20\n",
      "5/5 [==============================] - 0s 23ms/step - loss: 0.0025 - val_loss: 0.0083\n",
      "Epoch 19/20\n",
      "5/5 [==============================] - 0s 23ms/step - loss: 0.0024 - val_loss: 0.0082\n",
      "Epoch 20/20\n",
      "5/5 [==============================] - 0s 22ms/step - loss: 0.0024 - val_loss: 0.0083\n"
     ]
    },
    {
     "data": {
      "text/plain": [
       "<keras.src.callbacks.History at 0x24d149f7d90>"
      ]
     },
     "execution_count": 17,
     "metadata": {},
     "output_type": "execute_result"
    }
   ],
   "source": [
    "best_model = tuner.get_best_models()[0]\n",
    "best_model.compile(loss='msle', optimizer=Adam(0.001))\n",
    "\n",
    "best_model.fit(\n",
    "    x_train_scaled,\n",
    "    x_train_scaled,\n",
    "    epochs=20,\n",
    "    batch_size=512,\n",
    "    validation_data=(x_test_scaled, x_test_scaled)\n",
    ")"
   ]
  },
  {
   "cell_type": "code",
   "execution_count": 18,
   "metadata": {
    "colab": {
     "base_uri": "https://localhost:8080/"
    },
    "id": "H0DvGEOkHdsn",
    "outputId": "534ee8fa-d12d-49e4-b95e-0b5dbc24760d"
   },
   "outputs": [
    {
     "name": "stdout",
     "output_type": "stream",
     "text": [
      "73/73 [==============================] - 0s 1ms/step\n",
      "32/32 [==============================] - 0s 1ms/step\n"
     ]
    },
    {
     "data": {
      "text/plain": [
       "0.95"
      ]
     },
     "execution_count": 18,
     "metadata": {},
     "output_type": "execute_result"
    }
   ],
   "source": [
    "threshold_ = find_threshold(best_model, x_train_scaled)\n",
    "preds_ = get_predictions(best_model, x_test_scaled, threshold_)\n",
    "accuracy_score(preds_, y_test)"
   ]
  },
  {
   "cell_type": "code",
   "execution_count": null,
   "metadata": {},
   "outputs": [],
   "source": []
  }
 ],
 "metadata": {
  "colab": {
   "provenance": [],
   "toc_visible": true
  },
  "kernelspec": {
   "display_name": "Python 3 (ipykernel)",
   "language": "python",
   "name": "python3"
  },
  "language_info": {
   "codemirror_mode": {
    "name": "ipython",
    "version": 3
   },
   "file_extension": ".py",
   "mimetype": "text/x-python",
   "name": "python",
   "nbconvert_exporter": "python",
   "pygments_lexer": "ipython3",
   "version": "3.11.5"
  }
 },
 "nbformat": 4,
 "nbformat_minor": 1
}
