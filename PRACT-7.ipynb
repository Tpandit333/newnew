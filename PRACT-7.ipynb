{
 "cells": [
  {
   "cell_type": "code",
   "execution_count": 1,
   "id": "T016duGtjoe_",
   "metadata": {
    "id": "T016duGtjoe_",
    "outputId": "2e976798-b82a-45fd-a88b-5ee992be08d3"
   },
   "outputs": [
    {
     "data": {
      "text/plain": [
       "'2.14.0'"
      ]
     },
     "execution_count": 1,
     "metadata": {},
     "output_type": "execute_result"
    }
   ],
   "source": [
    "import tensorflow as tf\n",
    "import numpy as np\n",
    "import matplotlib.pyplot as plt\n",
    "tf.__version__"
   ]
  },
  {
   "cell_type": "code",
   "execution_count": 2,
   "id": "6gwmIZ5HjofC",
   "metadata": {
    "id": "6gwmIZ5HjofC"
   },
   "outputs": [],
   "source": [
    "img_generator = tf.keras.preprocessing.image.ImageDataGenerator(#rotation_range=90,\n",
    "                                                                brightness_range=(0.5,1),\n",
    "                                                                #shear_range=0.2,\n",
    "                                                                #zoom_range=0.2,\n",
    "                                                                channel_shift_range=0.2,\n",
    "                                                                horizontal_flip=True,\n",
    "                                                                vertical_flip=True,\n",
    "                                                                rescale=1./255,\n",
    "                                                                validation_split=0.3)"
   ]
  },
  {
   "cell_type": "code",
   "execution_count": 3,
   "id": "stBULliPjofD",
   "metadata": {
    "id": "stBULliPjofD",
    "outputId": "77dd7df4-9b17-42ad-a523-245ad1c91bd5"
   },
   "outputs": [
    {
     "ename": "FileNotFoundError",
     "evalue": "[WinError 3] The system cannot find the path specified: '101_ObjectCategories'",
     "output_type": "error",
     "traceback": [
      "\u001b[1;31m---------------------------------------------------------------------------\u001b[0m",
      "\u001b[1;31mFileNotFoundError\u001b[0m                         Traceback (most recent call last)",
      "Cell \u001b[1;32mIn[3], line 2\u001b[0m\n\u001b[0;32m      1\u001b[0m root_dir \u001b[38;5;241m=\u001b[39m \u001b[38;5;124m'\u001b[39m\u001b[38;5;124m101_ObjectCategories\u001b[39m\u001b[38;5;124m'\u001b[39m\n\u001b[1;32m----> 2\u001b[0m img_generator_flow_train \u001b[38;5;241m=\u001b[39m img_generator\u001b[38;5;241m.\u001b[39mflow_from_directory(\n\u001b[0;32m      3\u001b[0m     directory\u001b[38;5;241m=\u001b[39mroot_dir,\n\u001b[0;32m      4\u001b[0m     target_size\u001b[38;5;241m=\u001b[39m(\u001b[38;5;241m224\u001b[39m, \u001b[38;5;241m224\u001b[39m),\n\u001b[0;32m      5\u001b[0m     batch_size\u001b[38;5;241m=\u001b[39m\u001b[38;5;241m32\u001b[39m,\n\u001b[0;32m      6\u001b[0m     shuffle\u001b[38;5;241m=\u001b[39m\u001b[38;5;28;01mTrue\u001b[39;00m,\n\u001b[0;32m      7\u001b[0m     subset\u001b[38;5;241m=\u001b[39m\u001b[38;5;124m\"\u001b[39m\u001b[38;5;124mtraining\u001b[39m\u001b[38;5;124m\"\u001b[39m)\n\u001b[0;32m      9\u001b[0m img_generator_flow_valid \u001b[38;5;241m=\u001b[39m img_generator\u001b[38;5;241m.\u001b[39mflow_from_directory(\n\u001b[0;32m     10\u001b[0m     directory\u001b[38;5;241m=\u001b[39mroot_dir,\n\u001b[0;32m     11\u001b[0m     target_size\u001b[38;5;241m=\u001b[39m(\u001b[38;5;241m224\u001b[39m, \u001b[38;5;241m224\u001b[39m),\n\u001b[0;32m     12\u001b[0m     batch_size\u001b[38;5;241m=\u001b[39m\u001b[38;5;241m32\u001b[39m,\n\u001b[0;32m     13\u001b[0m     shuffle\u001b[38;5;241m=\u001b[39m\u001b[38;5;28;01mTrue\u001b[39;00m,\n\u001b[0;32m     14\u001b[0m     subset\u001b[38;5;241m=\u001b[39m\u001b[38;5;124m\"\u001b[39m\u001b[38;5;124mvalidation\u001b[39m\u001b[38;5;124m\"\u001b[39m)\n",
      "File \u001b[1;32m~\\anaconda3\\Lib\\site-packages\\keras\\src\\preprocessing\\image.py:1649\u001b[0m, in \u001b[0;36mImageDataGenerator.flow_from_directory\u001b[1;34m(self, directory, target_size, color_mode, classes, class_mode, batch_size, shuffle, seed, save_to_dir, save_prefix, save_format, follow_links, subset, interpolation, keep_aspect_ratio)\u001b[0m\n\u001b[0;32m   1562\u001b[0m \u001b[38;5;28;01mdef\u001b[39;00m \u001b[38;5;21mflow_from_directory\u001b[39m(\n\u001b[0;32m   1563\u001b[0m     \u001b[38;5;28mself\u001b[39m,\n\u001b[0;32m   1564\u001b[0m     directory,\n\u001b[1;32m   (...)\u001b[0m\n\u001b[0;32m   1578\u001b[0m     keep_aspect_ratio\u001b[38;5;241m=\u001b[39m\u001b[38;5;28;01mFalse\u001b[39;00m,\n\u001b[0;32m   1579\u001b[0m ):\n\u001b[0;32m   1580\u001b[0m \u001b[38;5;250m    \u001b[39m\u001b[38;5;124;03m\"\"\"Takes the path to a directory & generates batches of augmented data.\u001b[39;00m\n\u001b[0;32m   1581\u001b[0m \n\u001b[0;32m   1582\u001b[0m \u001b[38;5;124;03m    Args:\u001b[39;00m\n\u001b[1;32m   (...)\u001b[0m\n\u001b[0;32m   1647\u001b[0m \u001b[38;5;124;03m        and `y` is a numpy array of corresponding labels.\u001b[39;00m\n\u001b[0;32m   1648\u001b[0m \u001b[38;5;124;03m    \"\"\"\u001b[39;00m\n\u001b[1;32m-> 1649\u001b[0m     \u001b[38;5;28;01mreturn\u001b[39;00m DirectoryIterator(\n\u001b[0;32m   1650\u001b[0m         directory,\n\u001b[0;32m   1651\u001b[0m         \u001b[38;5;28mself\u001b[39m,\n\u001b[0;32m   1652\u001b[0m         target_size\u001b[38;5;241m=\u001b[39mtarget_size,\n\u001b[0;32m   1653\u001b[0m         color_mode\u001b[38;5;241m=\u001b[39mcolor_mode,\n\u001b[0;32m   1654\u001b[0m         keep_aspect_ratio\u001b[38;5;241m=\u001b[39mkeep_aspect_ratio,\n\u001b[0;32m   1655\u001b[0m         classes\u001b[38;5;241m=\u001b[39mclasses,\n\u001b[0;32m   1656\u001b[0m         class_mode\u001b[38;5;241m=\u001b[39mclass_mode,\n\u001b[0;32m   1657\u001b[0m         data_format\u001b[38;5;241m=\u001b[39m\u001b[38;5;28mself\u001b[39m\u001b[38;5;241m.\u001b[39mdata_format,\n\u001b[0;32m   1658\u001b[0m         batch_size\u001b[38;5;241m=\u001b[39mbatch_size,\n\u001b[0;32m   1659\u001b[0m         shuffle\u001b[38;5;241m=\u001b[39mshuffle,\n\u001b[0;32m   1660\u001b[0m         seed\u001b[38;5;241m=\u001b[39mseed,\n\u001b[0;32m   1661\u001b[0m         save_to_dir\u001b[38;5;241m=\u001b[39msave_to_dir,\n\u001b[0;32m   1662\u001b[0m         save_prefix\u001b[38;5;241m=\u001b[39msave_prefix,\n\u001b[0;32m   1663\u001b[0m         save_format\u001b[38;5;241m=\u001b[39msave_format,\n\u001b[0;32m   1664\u001b[0m         follow_links\u001b[38;5;241m=\u001b[39mfollow_links,\n\u001b[0;32m   1665\u001b[0m         subset\u001b[38;5;241m=\u001b[39msubset,\n\u001b[0;32m   1666\u001b[0m         interpolation\u001b[38;5;241m=\u001b[39minterpolation,\n\u001b[0;32m   1667\u001b[0m         dtype\u001b[38;5;241m=\u001b[39m\u001b[38;5;28mself\u001b[39m\u001b[38;5;241m.\u001b[39mdtype,\n\u001b[0;32m   1668\u001b[0m     )\n",
      "File \u001b[1;32m~\\anaconda3\\Lib\\site-packages\\keras\\src\\preprocessing\\image.py:563\u001b[0m, in \u001b[0;36mDirectoryIterator.__init__\u001b[1;34m(self, directory, image_data_generator, target_size, color_mode, classes, class_mode, batch_size, shuffle, seed, data_format, save_to_dir, save_prefix, save_format, follow_links, subset, interpolation, keep_aspect_ratio, dtype)\u001b[0m\n\u001b[0;32m    561\u001b[0m \u001b[38;5;28;01mif\u001b[39;00m \u001b[38;5;129;01mnot\u001b[39;00m classes:\n\u001b[0;32m    562\u001b[0m     classes \u001b[38;5;241m=\u001b[39m []\n\u001b[1;32m--> 563\u001b[0m     \u001b[38;5;28;01mfor\u001b[39;00m subdir \u001b[38;5;129;01min\u001b[39;00m \u001b[38;5;28msorted\u001b[39m(os\u001b[38;5;241m.\u001b[39mlistdir(directory)):\n\u001b[0;32m    564\u001b[0m         \u001b[38;5;28;01mif\u001b[39;00m os\u001b[38;5;241m.\u001b[39mpath\u001b[38;5;241m.\u001b[39misdir(os\u001b[38;5;241m.\u001b[39mpath\u001b[38;5;241m.\u001b[39mjoin(directory, subdir)):\n\u001b[0;32m    565\u001b[0m             classes\u001b[38;5;241m.\u001b[39mappend(subdir)\n",
      "\u001b[1;31mFileNotFoundError\u001b[0m: [WinError 3] The system cannot find the path specified: '101_ObjectCategories'"
     ]
    }
   ],
   "source": [
    "root_dir = '101_ObjectCategories'\n",
    "img_generator_flow_train = img_generator.flow_from_directory(\n",
    "    directory=root_dir,\n",
    "    target_size=(224, 224),\n",
    "    batch_size=32,\n",
    "    shuffle=True,\n",
    "    subset=\"training\")\n",
    "\n",
    "img_generator_flow_valid = img_generator.flow_from_directory(\n",
    "    directory=root_dir,\n",
    "    target_size=(224, 224),\n",
    "    batch_size=32,\n",
    "    shuffle=True,\n",
    "    subset=\"validation\")"
   ]
  },
  {
   "cell_type": "code",
   "execution_count": 4,
   "id": "KeYL0w-NjofE",
   "metadata": {
    "id": "KeYL0w-NjofE",
    "outputId": "4624f406-1223-40b0-cb1b-a0571bf7dcc9"
   },
   "outputs": [
    {
     "ename": "NameError",
     "evalue": "name 'img_generator_flow_train' is not defined",
     "output_type": "error",
     "traceback": [
      "\u001b[1;31m---------------------------------------------------------------------------\u001b[0m",
      "\u001b[1;31mNameError\u001b[0m                                 Traceback (most recent call last)",
      "Cell \u001b[1;32mIn[4], line 1\u001b[0m\n\u001b[1;32m----> 1\u001b[0m imgs, labels \u001b[38;5;241m=\u001b[39m \u001b[38;5;28mnext\u001b[39m(\u001b[38;5;28miter\u001b[39m(img_generator_flow_train))\n\u001b[0;32m      2\u001b[0m \u001b[38;5;28;01mfor\u001b[39;00m img, label \u001b[38;5;129;01min\u001b[39;00m \u001b[38;5;28mzip\u001b[39m(imgs, labels):\n\u001b[0;32m      3\u001b[0m     plt\u001b[38;5;241m.\u001b[39mimshow(img)\n",
      "\u001b[1;31mNameError\u001b[0m: name 'img_generator_flow_train' is not defined"
     ]
    }
   ],
   "source": [
    "imgs, labels = next(iter(img_generator_flow_train))\n",
    "for img, label in zip(imgs, labels):\n",
    "    plt.imshow(img)\n",
    "    plt.show()"
   ]
  },
  {
   "cell_type": "markdown",
   "id": "FuTaxSaHjofE",
   "metadata": {
    "id": "FuTaxSaHjofE"
   },
   "source": [
    "#### a. Load in a pretrained model (InceptionV3)"
   ]
  },
  {
   "cell_type": "code",
   "execution_count": null,
   "id": "Qcp9IeGfjofF",
   "metadata": {
    "id": "Qcp9IeGfjofF"
   },
   "outputs": [],
   "source": [
    "base_model = tf.keras.applications.InceptionV3(input_shape=(224,224,3),\n",
    "                                               include_top=False,\n",
    "                                               weights = \"imagenet\"\n",
    "                                               )"
   ]
  },
  {
   "cell_type": "markdown",
   "id": "SUo80tBLjofF",
   "metadata": {
    "id": "SUo80tBLjofF"
   },
   "source": [
    "#### b. Freeze parameters (weights) in model’s lower convolutional layers"
   ]
  },
  {
   "cell_type": "code",
   "execution_count": null,
   "id": "pFetHLsZjofG",
   "metadata": {
    "id": "pFetHLsZjofG"
   },
   "outputs": [],
   "source": [
    "base_model.trainable = False"
   ]
  },
  {
   "cell_type": "markdown",
   "id": "dLTU8KKLjofG",
   "metadata": {
    "id": "dLTU8KKLjofG"
   },
   "source": [
    "####  c. Add custom classifier with several layers of trainable parameters to model"
   ]
  },
  {
   "cell_type": "code",
   "execution_count": null,
   "id": "rvvhHKH-jofG",
   "metadata": {
    "id": "rvvhHKH-jofG"
   },
   "outputs": [],
   "source": [
    "model = tf.keras.Sequential([\n",
    "    base_model,\n",
    "    tf.keras.layers.MaxPooling2D(),\n",
    "    tf.keras.layers.Flatten(),\n",
    "    tf.keras.layers.Dense(102, activation=\"softmax\")\n",
    "])"
   ]
  },
  {
   "cell_type": "code",
   "execution_count": null,
   "id": "vNrveig2jofH",
   "metadata": {
    "id": "vNrveig2jofH",
    "outputId": "58d3a420-eeca-4d03-dcbb-1cba1f100954"
   },
   "outputs": [
    {
     "name": "stdout",
     "output_type": "stream",
     "text": [
      "Model: \"sequential\"\n",
      "_________________________________________________________________\n",
      " Layer (type)                Output Shape              Param #   \n",
      "=================================================================\n",
      " inception_v3 (Functional)   (None, 5, 5, 2048)        21802784  \n",
      "                                                                 \n",
      " max_pooling2d_4 (MaxPooling  (None, 2, 2, 2048)       0         \n",
      " 2D)                                                             \n",
      "                                                                 \n",
      " flatten (Flatten)           (None, 8192)              0         \n",
      "                                                                 \n",
      " dense (Dense)               (None, 102)               835686    \n",
      "                                                                 \n",
      "=================================================================\n",
      "Total params: 22,638,470\n",
      "Trainable params: 835,686\n",
      "Non-trainable params: 21,802,784\n",
      "_________________________________________________________________\n"
     ]
    }
   ],
   "source": [
    "model.summary()"
   ]
  },
  {
   "cell_type": "markdown",
   "id": "brP6MAeMjofH",
   "metadata": {
    "id": "brP6MAeMjofH"
   },
   "source": [
    "#### d. Train classifier layers on training data available for task"
   ]
  },
  {
   "cell_type": "code",
   "execution_count": null,
   "id": "Gpf0OL0tjofH",
   "metadata": {
    "id": "Gpf0OL0tjofH"
   },
   "outputs": [],
   "source": [
    "model.compile(optimizer=tf.keras.optimizers.Adam(learning_rate = 0.001),\n",
    "              loss = tf.keras.losses.CategoricalCrossentropy(),\n",
    "              metrics = [tf.keras.metrics.CategoricalAccuracy()])"
   ]
  },
  {
   "cell_type": "code",
   "execution_count": null,
   "id": "37rNhZLMjofI",
   "metadata": {
    "id": "37rNhZLMjofI",
    "outputId": "4dbaf3e3-f7d7-4549-9efd-7b7fd8c24fe3"
   },
   "outputs": [
    {
     "name": "stdout",
     "output_type": "stream",
     "text": [
      "Epoch 1/50\n",
      "20/20 [==============================] - 299s 15s/step - loss: 9.5780 - categorical_accuracy: 0.2188 - val_loss: 4.9710 - val_categorical_accuracy: 0.4307\n",
      "Epoch 2/50\n",
      "20/20 [==============================] - 281s 15s/step - loss: 3.3235 - categorical_accuracy: 0.5609 - val_loss: 2.7433 - val_categorical_accuracy: 0.5800\n",
      "Epoch 3/50\n",
      "20/20 [==============================] - 277s 14s/step - loss: 2.0335 - categorical_accuracy: 0.6766 - val_loss: 2.1982 - val_categorical_accuracy: 0.6822\n",
      "Epoch 4/50\n",
      "20/20 [==============================] - 280s 15s/step - loss: 2.2237 - categorical_accuracy: 0.7078 - val_loss: 2.1987 - val_categorical_accuracy: 0.6796\n",
      "Epoch 5/50\n",
      "20/20 [==============================] - 280s 15s/step - loss: 1.9958 - categorical_accuracy: 0.7031 - val_loss: 2.3371 - val_categorical_accuracy: 0.6759\n",
      "Epoch 6/50\n",
      "20/20 [==============================] - 280s 15s/step - loss: 1.7653 - categorical_accuracy: 0.7547 - val_loss: 2.3373 - val_categorical_accuracy: 0.6789\n",
      "Epoch 7/50\n",
      "20/20 [==============================] - 280s 15s/step - loss: 1.6063 - categorical_accuracy: 0.7563 - val_loss: 2.3810 - val_categorical_accuracy: 0.6830\n",
      "Epoch 8/50\n",
      "20/20 [==============================] - 279s 15s/step - loss: 1.7579 - categorical_accuracy: 0.7359 - val_loss: 2.1543 - val_categorical_accuracy: 0.6893\n",
      "Epoch 9/50\n",
      "20/20 [==============================] - 201s 10s/step - loss: 1.4580 - categorical_accuracy: 0.7875 - val_loss: 1.7675 - val_categorical_accuracy: 0.7744\n",
      "Epoch 10/50\n",
      "20/20 [==============================] - 156s 8s/step - loss: 1.5017 - categorical_accuracy: 0.8109 - val_loss: 2.1442 - val_categorical_accuracy: 0.7207\n",
      "Epoch 11/50\n",
      "20/20 [==============================] - 160s 8s/step - loss: 1.3786 - categorical_accuracy: 0.7781 - val_loss: 2.3113 - val_categorical_accuracy: 0.7130\n",
      "Epoch 12/50\n",
      "20/20 [==============================] - 166s 9s/step - loss: 1.3909 - categorical_accuracy: 0.8344 - val_loss: 2.1122 - val_categorical_accuracy: 0.7430\n",
      "Epoch 13/50\n",
      "20/20 [==============================] - 171s 9s/step - loss: 1.5058 - categorical_accuracy: 0.7937 - val_loss: 1.8592 - val_categorical_accuracy: 0.7641\n",
      "Epoch 14/50\n",
      "20/20 [==============================] - 170s 9s/step - loss: 1.5229 - categorical_accuracy: 0.7774 - val_loss: 2.0959 - val_categorical_accuracy: 0.7467\n",
      "Epoch 15/50\n",
      "20/20 [==============================] - 173s 9s/step - loss: 1.8268 - categorical_accuracy: 0.8109 - val_loss: 2.6655 - val_categorical_accuracy: 0.7211\n",
      "Epoch 16/50\n",
      "20/20 [==============================] - 171s 9s/step - loss: 1.2147 - categorical_accuracy: 0.8391 - val_loss: 2.3540 - val_categorical_accuracy: 0.7344\n",
      "Epoch 17/50\n",
      "20/20 [==============================] - 183s 10s/step - loss: 1.1588 - categorical_accuracy: 0.8609 - val_loss: 2.1975 - val_categorical_accuracy: 0.7459\n",
      "Epoch 18/50\n",
      "20/20 [==============================] - 172s 9s/step - loss: 1.2441 - categorical_accuracy: 0.8219 - val_loss: 2.1491 - val_categorical_accuracy: 0.7467\n",
      "Epoch 19/50\n",
      "20/20 [==============================] - 174s 9s/step - loss: 1.3876 - categorical_accuracy: 0.8219 - val_loss: 1.8073 - val_categorical_accuracy: 0.7822\n",
      "Epoch 20/50\n",
      "20/20 [==============================] - 179s 9s/step - loss: 1.0249 - categorical_accuracy: 0.8562 - val_loss: 2.4483 - val_categorical_accuracy: 0.7500\n",
      "Epoch 21/50\n",
      "20/20 [==============================] - 174s 9s/step - loss: 1.2073 - categorical_accuracy: 0.8359 - val_loss: 2.3390 - val_categorical_accuracy: 0.7270\n",
      "Epoch 22/50\n",
      "20/20 [==============================] - 171s 9s/step - loss: 1.0721 - categorical_accuracy: 0.8500 - val_loss: 2.0645 - val_categorical_accuracy: 0.7778\n",
      "Epoch 23/50\n",
      "20/20 [==============================] - 170s 9s/step - loss: 1.3016 - categorical_accuracy: 0.8422 - val_loss: 2.0044 - val_categorical_accuracy: 0.7689\n",
      "Epoch 24/50\n",
      "20/20 [==============================] - 171s 9s/step - loss: 1.1754 - categorical_accuracy: 0.8484 - val_loss: 1.8575 - val_categorical_accuracy: 0.7841\n",
      "Epoch 25/50\n",
      "20/20 [==============================] - 169s 9s/step - loss: 1.0255 - categorical_accuracy: 0.8742 - val_loss: 1.9853 - val_categorical_accuracy: 0.7637\n",
      "Epoch 26/50\n",
      "20/20 [==============================] - 171s 9s/step - loss: 1.0582 - categorical_accuracy: 0.8547 - val_loss: 1.7156 - val_categorical_accuracy: 0.7893\n",
      "Epoch 27/50\n",
      "20/20 [==============================] - 172s 9s/step - loss: 0.9052 - categorical_accuracy: 0.8766 - val_loss: 2.0458 - val_categorical_accuracy: 0.7926\n",
      "Epoch 28/50\n",
      "20/20 [==============================] - 171s 9s/step - loss: 1.2324 - categorical_accuracy: 0.8766 - val_loss: 1.9813 - val_categorical_accuracy: 0.7822\n",
      "Epoch 29/50\n",
      "20/20 [==============================] - 171s 9s/step - loss: 0.9844 - categorical_accuracy: 0.8859 - val_loss: 2.1354 - val_categorical_accuracy: 0.7826\n",
      "Epoch 30/50\n",
      "20/20 [==============================] - 170s 9s/step - loss: 1.1895 - categorical_accuracy: 0.8766 - val_loss: 2.2323 - val_categorical_accuracy: 0.7648\n",
      "Epoch 31/50\n",
      "20/20 [==============================] - 173s 9s/step - loss: 0.7584 - categorical_accuracy: 0.8859 - val_loss: 1.8269 - val_categorical_accuracy: 0.8026\n",
      "Epoch 32/50\n",
      "20/20 [==============================] - 172s 9s/step - loss: 0.8203 - categorical_accuracy: 0.9032 - val_loss: 2.2294 - val_categorical_accuracy: 0.7922\n",
      "Epoch 33/50\n",
      "20/20 [==============================] - 171s 9s/step - loss: 0.8291 - categorical_accuracy: 0.9016 - val_loss: 1.9338 - val_categorical_accuracy: 0.8019\n",
      "Epoch 34/50\n",
      "20/20 [==============================] - 175s 9s/step - loss: 0.6887 - categorical_accuracy: 0.9113 - val_loss: 2.2045 - val_categorical_accuracy: 0.7707\n",
      "Epoch 35/50\n",
      "20/20 [==============================] - 173s 9s/step - loss: 0.9399 - categorical_accuracy: 0.8922 - val_loss: 2.2274 - val_categorical_accuracy: 0.7937\n",
      "Epoch 36/50\n",
      "20/20 [==============================] - 173s 9s/step - loss: 1.1352 - categorical_accuracy: 0.8766 - val_loss: 2.2628 - val_categorical_accuracy: 0.7707\n",
      "Epoch 37/50\n",
      "20/20 [==============================] - 170s 9s/step - loss: 0.7790 - categorical_accuracy: 0.8938 - val_loss: 2.1822 - val_categorical_accuracy: 0.7933\n",
      "Epoch 38/50\n",
      "20/20 [==============================] - 171s 9s/step - loss: 0.7469 - categorical_accuracy: 0.8828 - val_loss: 2.2055 - val_categorical_accuracy: 0.7900\n",
      "Epoch 39/50\n",
      "20/20 [==============================] - 172s 9s/step - loss: 1.0173 - categorical_accuracy: 0.8719 - val_loss: 2.3362 - val_categorical_accuracy: 0.7956\n",
      "Epoch 40/50\n",
      "20/20 [==============================] - 170s 9s/step - loss: 0.9249 - categorical_accuracy: 0.8922 - val_loss: 2.4103 - val_categorical_accuracy: 0.7841\n",
      "Epoch 41/50\n",
      "20/20 [==============================] - 171s 9s/step - loss: 0.8699 - categorical_accuracy: 0.9031 - val_loss: 2.3234 - val_categorical_accuracy: 0.7756\n",
      "Epoch 42/50\n",
      "20/20 [==============================] - 170s 9s/step - loss: 0.7833 - categorical_accuracy: 0.9047 - val_loss: 2.1818 - val_categorical_accuracy: 0.7844\n",
      "Epoch 43/50\n",
      "20/20 [==============================] - 171s 9s/step - loss: 0.9062 - categorical_accuracy: 0.9078 - val_loss: 2.0515 - val_categorical_accuracy: 0.7885\n",
      "Epoch 44/50\n",
      "20/20 [==============================] - 172s 9s/step - loss: 0.5450 - categorical_accuracy: 0.9203 - val_loss: 2.5234 - val_categorical_accuracy: 0.7704\n",
      "Epoch 45/50\n",
      "20/20 [==============================] - 174s 9s/step - loss: 0.8485 - categorical_accuracy: 0.9078 - val_loss: 2.3736 - val_categorical_accuracy: 0.7774\n",
      "Epoch 46/50\n",
      "20/20 [==============================] - 172s 9s/step - loss: 0.9759 - categorical_accuracy: 0.8938 - val_loss: 2.4889 - val_categorical_accuracy: 0.7759\n",
      "Epoch 47/50\n",
      "20/20 [==============================] - 172s 9s/step - loss: 0.5076 - categorical_accuracy: 0.9203 - val_loss: 1.7677 - val_categorical_accuracy: 0.8204\n",
      "Epoch 48/50\n",
      "20/20 [==============================] - 172s 9s/step - loss: 0.7484 - categorical_accuracy: 0.9172 - val_loss: 2.0697 - val_categorical_accuracy: 0.8019\n",
      "Epoch 49/50\n",
      "20/20 [==============================] - 172s 9s/step - loss: 0.5238 - categorical_accuracy: 0.9250 - val_loss: 1.9215 - val_categorical_accuracy: 0.8263\n",
      "Epoch 50/50\n",
      "20/20 [==============================] - 617s 32s/step - loss: 0.6993 - categorical_accuracy: 0.9097 - val_loss: 2.2180 - val_categorical_accuracy: 0.8122\n"
     ]
    },
    {
     "data": {
      "text/plain": [
       "<keras.callbacks.History at 0x290090609d0>"
      ]
     },
     "execution_count": 10,
     "metadata": {},
     "output_type": "execute_result"
    }
   ],
   "source": [
    "model.fit(img_generator_flow_train, validation_data=img_generator_flow_valid, steps_per_epoch=20, epochs=50) #20,50"
   ]
  },
  {
   "cell_type": "code",
   "execution_count": null,
   "id": "cwF3tylKjofI",
   "metadata": {
    "id": "cwF3tylKjofI",
    "outputId": "62b471e8-9dd2-4288-c239-da7a54899da3"
   },
   "outputs": [
    {
     "data": {
      "image/png": "[encoded data removed]",
      "text/plain": [
       "<Figure size 432x288 with 1 Axes>"
      ]
     },
     "metadata": {
      "needs_background": "light"
     },
     "output_type": "display_data"
    }
   ],
   "source": [
    "# Visualise train / Valid Accuracy\n",
    "plt.plot(model.history.history[\"categorical_accuracy\"], c=\"r\", label=\"train_accuracy\")\n",
    "plt.plot(model.history.history[\"val_categorical_accuracy\"], c=\"b\", label=\"test_accuracy\")\n",
    "plt.legend(loc=\"upper left\")\n",
    "plt.show()"
   ]
  },
  {
   "cell_type": "markdown",
   "id": "ZRXyEm_QjofI",
   "metadata": {
    "id": "ZRXyEm_QjofI"
   },
   "source": [
    "#### e. Fine-tune hyper parameters and unfreeze more layers as needed"
   ]
  },
  {
   "cell_type": "code",
   "execution_count": null,
   "id": "6iP5VTF0jofI",
   "metadata": {
    "id": "6iP5VTF0jofI"
   },
   "outputs": [],
   "source": [
    "base_model.trainable = True\n",
    "\n",
    "model.compile(optimizer=tf.keras.optimizers.Adam(learning_rate = 0.001),\n",
    "              loss = tf.keras.losses.CategoricalCrossentropy(),\n",
    "              metrics = [tf.keras.metrics.CategoricalAccuracy()])"
   ]
  },
  {
   "cell_type": "code",
   "execution_count": null,
   "id": "HDBvCb1cjofI",
   "metadata": {
    "id": "HDBvCb1cjofI",
    "outputId": "2fe195ae-4dcb-401b-8150-641825a5d1ba"
   },
   "outputs": [
    {
     "name": "stdout",
     "output_type": "stream",
     "text": [
      "Epoch 1/50\n",
      "20/20 [==============================] - 474s 24s/step - loss: 3.9578 - categorical_accuracy: 0.4359 - val_loss: 126.2205 - val_categorical_accuracy: 0.0163\n",
      "Epoch 2/50\n",
      "20/20 [==============================] - 466s 24s/step - loss: 3.9319 - categorical_accuracy: 0.2875 - val_loss: 13552.6338 - val_categorical_accuracy: 0.0481\n",
      "Epoch 3/50\n",
      "20/20 [==============================] - 462s 24s/step - loss: 3.5396 - categorical_accuracy: 0.3250 - val_loss: 65.9670 - val_categorical_accuracy: 0.0663\n",
      "Epoch 4/50\n",
      "20/20 [==============================] - 461s 24s/step - loss: 3.1368 - categorical_accuracy: 0.3812 - val_loss: 62.4981 - val_categorical_accuracy: 0.0722\n",
      "Epoch 5/50\n",
      "20/20 [==============================] - 463s 24s/step - loss: 2.8024 - categorical_accuracy: 0.4109 - val_loss: 4.9331 - val_categorical_accuracy: 0.2341\n",
      "Epoch 6/50\n",
      "20/20 [==============================] - 457s 23s/step - loss: 2.5176 - categorical_accuracy: 0.4328 - val_loss: 4.8107 - val_categorical_accuracy: 0.2370\n",
      "Epoch 7/50\n",
      "20/20 [==============================] - 459s 23s/step - loss: 2.0832 - categorical_accuracy: 0.5250 - val_loss: 3.3150 - val_categorical_accuracy: 0.4315\n",
      "Epoch 8/50\n",
      "20/20 [==============================] - 458s 24s/step - loss: 1.6358 - categorical_accuracy: 0.6047 - val_loss: 2.4610 - val_categorical_accuracy: 0.4459\n",
      "Epoch 9/50\n",
      "20/20 [==============================] - 460s 24s/step - loss: 1.6275 - categorical_accuracy: 0.5953 - val_loss: 2.1677 - val_categorical_accuracy: 0.5081\n",
      "Epoch 10/50\n",
      "20/20 [==============================] - ETA: 0s - loss: 1.6000 - categorical_accuracy: 0.5938 "
     ]
    }
   ],
   "source": [
    "model.fit(img_generator_flow_train, validation_data=img_generator_flow_valid, steps_per_epoch=20, epochs=50) #20,50"
   ]
  },
  {
   "cell_type": "code",
   "execution_count": null,
   "id": "fqeKxddwjofJ",
   "metadata": {
    "id": "fqeKxddwjofJ"
   },
   "outputs": [],
   "source": []
  }
 ],
 "metadata": {
  "colab": {
   "provenance": []
  },
  "kernelspec": {
   "display_name": "Python 3 (ipykernel)",
   "language": "python",
   "name": "python3"
  },
  "language_info": {
   "codemirror_mode": {
    "name": "ipython",
    "version": 3
   },
   "file_extension": ".py",
   "mimetype": "text/x-python",
   "name": "python",
   "nbconvert_exporter": "python",
   "pygments_lexer": "ipython3",
   "version": "3.11.5"
  }
 },
 "nbformat": 4,
 "nbformat_minor": 5
}
