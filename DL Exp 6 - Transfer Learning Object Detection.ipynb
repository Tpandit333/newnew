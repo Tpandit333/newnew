{
 "cells": [
  {
   "cell_type": "code",
   "execution_count": 1,
   "id": "2a488c90",
   "metadata": {},
   "outputs": [],
   "source": [
    "from tensorflow.keras.preprocessing.image import load_img\n",
    "from tensorflow.keras.preprocessing.image import img_to_array\n",
    "from keras.applications.vgg16 import preprocess_input\n",
    "from keras.applications.vgg16 import decode_predictions\n",
    "from keras.applications.vgg16 import VGG16"
   ]
  },
  {
   "cell_type": "code",
   "execution_count": 2,
   "id": "aa318e31",
   "metadata": {},
   "outputs": [],
   "source": [
    "image = load_img('download.jpg', target_size=(224, 224))"
   ]
  },
  {
   "cell_type": "code",
   "execution_count": 3,
   "id": "808d3a0a",
   "metadata": {},
   "outputs": [],
   "source": [
    "image = img_to_array(image)"
   ]
  },
  {
   "cell_type": "code",
   "execution_count": 4,
   "id": "412447d1",
   "metadata": {},
   "outputs": [],
   "source": [
    "image = image.reshape((1, image.shape[0], image.shape[1], image.shape[2]))"
   ]
  },
  {
   "cell_type": "code",
   "execution_count": 5,
   "id": "58196d2a",
   "metadata": {},
   "outputs": [],
   "source": [
    "image = preprocess_input(image)"
   ]
  },
  {
   "cell_type": "code",
   "execution_count": 6,
   "id": "1ee95e52",
   "metadata": {},
   "outputs": [],
   "source": [
    "model = VGG16()"
   ]
  },
  {
   "cell_type": "code",
   "execution_count": 7,
   "id": "37fd10e3",
   "metadata": {},
   "outputs": [
    {
     "name": "stdout",
     "output_type": "stream",
     "text": [
      "1/1 [==============================] - 1s 634ms/step\n"
     ]
    }
   ],
   "source": [
    "yhat = model.predict(image)"
   ]
  },
  {
   "cell_type": "code",
   "execution_count": 8,
   "id": "194ecf0c",
   "metadata": {},
   "outputs": [],
   "source": [
    "label = decode_predictions(yhat)"
   ]
  },
  {
   "cell_type": "code",
   "execution_count": 9,
   "id": "32edaeb5",
   "metadata": {},
   "outputs": [],
   "source": [
    "label = label[0][0]"
   ]
  },
  {
   "cell_type": "code",
   "execution_count": 10,
   "id": "afafc185",
   "metadata": {},
   "outputs": [
    {
     "name": "stdout",
     "output_type": "stream",
     "text": [
      "castle (34.03%)\n"
     ]
    }
   ],
   "source": [
    "print('%s (%.2f%%)' % (label[1], label[2]*100))"
   ]
  },
  {
   "cell_type": "code",
   "execution_count": 11,
   "id": "b02b46b9",
   "metadata": {},
   "outputs": [],
   "source": [
    "image = load_img('download2.png', target_size=(224, 224))"
   ]
  },
  {
   "cell_type": "code",
   "execution_count": 12,
   "id": "7ed1834f",
   "metadata": {},
   "outputs": [],
   "source": [
    "image = img_to_array(image)"
   ]
  },
  {
   "cell_type": "code",
   "execution_count": 13,
   "id": "df609360",
   "metadata": {},
   "outputs": [],
   "source": [
    "image = image.reshape((1, image.shape[0], image.shape[1], image.shape[2]))"
   ]
  },
  {
   "cell_type": "code",
   "execution_count": 14,
   "id": "0d2d5b18",
   "metadata": {},
   "outputs": [],
   "source": [
    "image = preprocess_input(image)"
   ]
  },
  {
   "cell_type": "code",
   "execution_count": 15,
   "id": "770a1376",
   "metadata": {},
   "outputs": [],
   "source": [
    "model = VGG16()"
   ]
  },
  {
   "cell_type": "code",
   "execution_count": 16,
   "id": "c7fb8496",
   "metadata": {},
   "outputs": [
    {
     "name": "stdout",
     "output_type": "stream",
     "text": [
      "1/1 [==============================] - 0s 445ms/step\n"
     ]
    }
   ],
   "source": [
    "yhat = model.predict(image)"
   ]
  },
  {
   "cell_type": "code",
   "execution_count": 17,
   "id": "f937f833",
   "metadata": {},
   "outputs": [],
   "source": [
    "label = decode_predictions(yhat)"
   ]
  },
  {
   "cell_type": "code",
   "execution_count": 18,
   "id": "25fea0f9",
   "metadata": {},
   "outputs": [],
   "source": [
    "label = label[0][0]"
   ]
  },
  {
   "cell_type": "code",
   "execution_count": 19,
   "id": "1876f770",
   "metadata": {},
   "outputs": [
    {
     "name": "stdout",
     "output_type": "stream",
     "text": [
      "valley (44.85%)\n"
     ]
    }
   ],
   "source": [
    "print('%s (%.2f%%)' % (label[1], label[2]*100))"
   ]
  },
  {
   "cell_type": "code",
   "execution_count": 20,
   "id": "5b8b6fe8",
   "metadata": {},
   "outputs": [],
   "source": [
    "image = load_img('download3.jpg', target_size=(224, 224))"
   ]
  },
  {
   "cell_type": "code",
   "execution_count": 21,
   "id": "74047295",
   "metadata": {},
   "outputs": [],
   "source": [
    "image = img_to_array(image)"
   ]
  },
  {
   "cell_type": "code",
   "execution_count": 22,
   "id": "c6e15f3c",
   "metadata": {},
   "outputs": [],
   "source": [
    "image = image.reshape((1, image.shape[0], image.shape[1], image.shape[2]))"
   ]
  },
  {
   "cell_type": "code",
   "execution_count": 23,
   "id": "52504c6e",
   "metadata": {},
   "outputs": [],
   "source": [
    "image = preprocess_input(image)"
   ]
  },
  {
   "cell_type": "code",
   "execution_count": 24,
   "id": "d603bbb6",
   "metadata": {},
   "outputs": [],
   "source": [
    "model = VGG16()"
   ]
  },
  {
   "cell_type": "code",
   "execution_count": 25,
   "id": "a627fc92",
   "metadata": {},
   "outputs": [
    {
     "name": "stdout",
     "output_type": "stream",
     "text": [
      "1/1 [==============================] - 1s 836ms/step\n"
     ]
    }
   ],
   "source": [
    "yhat = model.predict(image)"
   ]
  },
  {
   "cell_type": "code",
   "execution_count": 26,
   "id": "e3230b46",
   "metadata": {},
   "outputs": [],
   "source": [
    "label = decode_predictions(yhat)"
   ]
  },
  {
   "cell_type": "code",
   "execution_count": 27,
   "id": "7a64e7a4",
   "metadata": {},
   "outputs": [],
   "source": [
    "label = label[0][0]"
   ]
  },
  {
   "cell_type": "code",
   "execution_count": 28,
   "id": "25f63e40",
   "metadata": {},
   "outputs": [
    {
     "name": "stdout",
     "output_type": "stream",
     "text": [
      "golden_retriever (84.78%)\n"
     ]
    }
   ],
   "source": [
    "print('%s (%.2f%%)' % (label[1], label[2]*100))"
   ]
  },
  {
   "cell_type": "code",
   "execution_count": null,
   "id": "11e3497d",
   "metadata": {},
   "outputs": [],
   "source": []
  }
 ],
 "metadata": {
  "kernelspec": {
   "display_name": "Python 3 (ipykernel)",
   "language": "python",
   "name": "python3"
  },
  "language_info": {
   "codemirror_mode": {
    "name": "ipython",
    "version": 3
   },
   "file_extension": ".py",
   "mimetype": "text/x-python",
   "name": "python",
   "nbconvert_exporter": "python",
   "pygments_lexer": "ipython3",
   "version": "3.11.5"
  }
 },
 "nbformat": 4,
 "nbformat_minor": 5
}
